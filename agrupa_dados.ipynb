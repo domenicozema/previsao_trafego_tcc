{
 "cells": [
  {
   "cell_type": "code",
   "execution_count": null,
   "metadata": {},
   "outputs": [],
   "source": [
    "import pandas as pd\n",
    "\n",
    "pd.set_option('display.max_columns', None)"
   ]
  },
  {
   "cell_type": "markdown",
   "metadata": {},
   "source": [
    "# Tratamento da base"
   ]
  },
  {
   "cell_type": "markdown",
   "metadata": {},
   "source": [
    "Essa etapa mostra como a base original foi agrupada. Por questões de espaço, o exemplo será dado com uma amostra da base contendo apenas um radar (aprox 22k linhas). A base original possui 6.6M linhas e pesa mais de 1GB."
   ]
  },
  {
   "cell_type": "code",
   "execution_count": null,
   "metadata": {},
   "outputs": [],
   "source": [
    "# Importa amostra contendo dados de um unico radar\n",
    "filename=\"amostra_radar4326\"\n",
    "\n",
    "# Importa dataframe\n",
    "df = pd.read_csv(filename + \".csv\", sep=';')"
   ]
  },
  {
   "cell_type": "code",
   "execution_count": null,
   "metadata": {},
   "outputs": [],
   "source": [
    "#Tabela inicial\n",
    "df.head()"
   ]
  },
  {
   "cell_type": "code",
   "execution_count": null,
   "metadata": {},
   "outputs": [],
   "source": [
    "# Remove coluna com placas\n",
    "df.drop(['Placa'], axis=1, inplace=True)\n",
    "\n",
    "# Remove linhas com valores nulos\n",
    "df.dropna(inplace=True)\n",
    "\n",
    "# Trata coluna de data\n",
    "df['Data'] = df['Data'].astype('float').apply(lambda x: str(x)[:-2])\n",
    "df['Hora'] = df['Hora'].astype('float').apply(lambda x: str(x)[:-2].zfill(6))\n",
    "df['Data'] = df['Data']+df['Hora']\n",
    "df['Data'] = pd.to_datetime(df['Data'],format='%Y%m%d%H%M%S')"
   ]
  },
  {
   "cell_type": "code",
   "execution_count": null,
   "metadata": {},
   "outputs": [],
   "source": [
    "# Seleciona unico dia (remove residuos do dia anterios)\n",
    "df = df[(df['Data']>='2018-05-09 00:00:00')&(df['Data']<'2018-05-10 00:00:00')]\n",
    "df.reset_index(drop=True,inplace=True)\n",
    "\n",
    "df['Data']=pd.to_datetime(df['Data'])\n",
    "\n",
    "# Agrupamento a cada 3min\n",
    "df_local1 = df.groupby([pd.Grouper(key='Data', freq='3Min'),'Local']).agg({'VelocidadePontual': 'mean',\n",
    "                                                                         'Hora': 'count'})\n",
    "df_local1.columns=['VelMed', 'Qtde'] # Renomeia\n",
    "df_local1.reset_index(inplace = True)"
   ]
  },
  {
   "cell_type": "code",
   "execution_count": null,
   "metadata": {},
   "outputs": [],
   "source": [
    "# Esse arquivo seria exportado e corresponde ao arquivo _grouped, o qual\n",
    "# inicia o proximo script\n",
    "df_local1.head()"
   ]
  }
 ],
 "metadata": {
  "kernelspec": {
   "display_name": "Python 3",
   "language": "python",
   "name": "python3"
  },
  "language_info": {
   "codemirror_mode": {
    "name": "ipython",
    "version": 3
   },
   "file_extension": ".py",
   "mimetype": "text/x-python",
   "name": "python",
   "nbconvert_exporter": "python",
   "pygments_lexer": "ipython3",
   "version": "3.7.3"
  }
 },
 "nbformat": 4,
 "nbformat_minor": 2
}
