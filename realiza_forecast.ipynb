{
 "cells": [
  {
   "cell_type": "code",
   "execution_count": null,
   "metadata": {},
   "outputs": [],
   "source": [
    "import pandas as pd\n",
    "import numpy as np\n",
    "import matplotlib.pyplot as plt\n",
    "from statsmodels.tsa.arima_model import ARIMA\n",
    "from statsmodels.tsa.stattools import adfuller\n",
    "from statsmodels.graphics.tsaplots import plot_acf, plot_pacf\n",
    "import matplotlib.dates as mdates"
   ]
  },
  {
   "cell_type": "markdown",
   "metadata": {},
   "source": [
    "## Agrupando os dois dias num unico dataframe"
   ]
  },
  {
   "cell_type": "code",
   "execution_count": null,
   "metadata": {},
   "outputs": [],
   "source": [
    "# Importa os dataframes agrupados e converte coluna para datetime\n",
    "\n",
    "df2=pd.read_csv(\"20180906_grouped.csv\",\n",
    "                sep=';',\n",
    "                decimal='.')\n",
    "df2['Data']=pd.to_datetime(df2['Data'])\n",
    "\n",
    "df3=pd.read_csv(\"20180921_grouped.csv\",\n",
    "                sep=';',\n",
    "                decimal='.')\n",
    "df3['Data']=pd.to_datetime(df3['Data'])"
   ]
  },
  {
   "cell_type": "code",
   "execution_count": null,
   "metadata": {},
   "outputs": [],
   "source": [
    "# Transforma as datas em dias consecutivos\n",
    "df2['Data']=df2['Data'].apply(lambda x: x.replace(month=1, day=2, hour=x.hour, minute=x.minute, second=x.second))\n",
    "df3['Data']=df3['Data'].apply(lambda x: x.replace(month=1, day=3, hour=x.hour, minute=x.minute, second=x.second))"
   ]
  },
  {
   "cell_type": "code",
   "execution_count": null,
   "metadata": {},
   "outputs": [],
   "source": [
    "# Consolida os dois dias em um unico dataframe\n",
    "df = pd.concat([df2,df3],axis=0).reset_index(drop=True)"
   ]
  },
  {
   "cell_type": "markdown",
   "metadata": {},
   "source": [
    "## Selecao do radar e horario a ser previsto"
   ]
  },
  {
   "cell_type": "code",
   "execution_count": null,
   "metadata": {},
   "outputs": [],
   "source": [
    "# Seleciona um unico radar\n",
    "# Seleciona horario para realizar a previsao\n",
    "radar = 4326\n",
    "hora = '13:00:00'\n",
    "\n",
    "df_u = df[df['Local']==4326].reset_index(drop=True)\n",
    "\n",
    "division = df_u.loc[df_u['Data']=='2018-01-03 ' + hora].index[0]\n",
    "start = division - 100\n",
    "\n",
    "# Separa em treino e validação\n",
    "train = df_u.loc[start:division]\n",
    "test  = df_u.loc[division:]"
   ]
  },
  {
   "cell_type": "markdown",
   "metadata": {},
   "source": [
    "## Determinacao dos parametros do ARIMA"
   ]
  },
  {
   "cell_type": "markdown",
   "metadata": {},
   "source": [
    "### Checar se a série é estacionária"
   ]
  },
  {
   "cell_type": "code",
   "execution_count": null,
   "metadata": {},
   "outputs": [],
   "source": [
    "result = adfuller(df_u.Qtde)\n",
    "print('ADF Statistic: %f' % result[0])\n",
    "print('p-value: %f' % result[1])"
   ]
  },
  {
   "cell_type": "markdown",
   "metadata": {},
   "source": [
    "Para o radar escolhido, ve-se que a série pode ser considerada estacionária (p-value inferior a 0.05). Por isso, não será realizado nenhuma diferenciação (d=0). No entanto, faremos a validação visual para certificar-nos do resultado apontado pelo teste ADF"
   ]
  },
  {
   "cell_type": "markdown",
   "metadata": {},
   "source": [
    "### Validação Visual"
   ]
  },
  {
   "cell_type": "code",
   "execution_count": null,
   "metadata": {},
   "outputs": [],
   "source": [
    "plt.rcParams.update({'figure.figsize':(9,7), 'figure.dpi':120})\n",
    "\n",
    "# Original Series\n",
    "fig, axes = plt.subplots(3, 2, sharex=False)\n",
    "axes[0, 0].plot(df_u.Qtde); axes[0, 0].set_title('Original Series')\n",
    "plot_acf(df_u.Qtde, ax=axes[0, 1], alpha=0.05, lags=100)\n",
    "\n",
    "# 1st Differencing\n",
    "axes[1, 0].plot(df_u.Qtde.diff()); axes[1, 0].set_title('1st Order Differencing')\n",
    "plot_acf(df_u.Qtde.diff().dropna(), ax=axes[1, 1])\n",
    "\n",
    "# 2nd Differencing\n",
    "axes[2, 0].plot(df_u.Qtde.diff().diff()); axes[2, 0].set_title('2nd Order Differencing')\n",
    "plot_acf(df_u.Qtde.diff().diff().dropna(), ax=axes[2, 1])\n",
    "\n",
    "plt.tight_layout()\n",
    "plt.show()"
   ]
  },
  {
   "cell_type": "markdown",
   "metadata": {},
   "source": [
    "Os plots mostram que na primeira diferenciação, a série já se torna super diferenciada (o que pode ser notado pela queda abrupta na curva de autocorrelação). Isso indica que o parâmetro d=0 é realmente o ideal"
   ]
  },
  {
   "cell_type": "markdown",
   "metadata": {},
   "source": [
    "### Ordem da Auto-Regressão"
   ]
  },
  {
   "cell_type": "code",
   "execution_count": null,
   "metadata": {},
   "outputs": [],
   "source": [
    "# PACF\n",
    "plt.rcParams.update({'figure.figsize':(9,3), 'figure.dpi':120})\n",
    "\n",
    "fig, axes = plt.subplots(1, 2, sharex=False)\n",
    "axes[0].plot(df_u.Qtde); axes[0].set_title('Series')\n",
    "axes[1].set(ylim=(0,1.5))\n",
    "plot_pacf(df_u.Qtde, ax=axes[1], lags= 100)\n",
    "\n",
    "plt.show()"
   ]
  },
  {
   "cell_type": "markdown",
   "metadata": {},
   "source": [
    "Pelo gráfico, vemos que os quatro primeiros lags possuem correlação acima do nível de confiança exigido (delimitado pela área azul). Por isso, utilizaremos p=4."
   ]
  },
  {
   "cell_type": "markdown",
   "metadata": {},
   "source": [
    "### Ordem da Média-Movel"
   ]
  },
  {
   "cell_type": "code",
   "execution_count": null,
   "metadata": {},
   "outputs": [],
   "source": [
    "ig, axes = plt.subplots(1, 2, sharex=False)\n",
    "axes[0].plot(df_u.Qtde); axes[0].set_title('Series')\n",
    "axes[1].set(ylim=(0,1.2))\n",
    "plot_acf(df_u.Qtde, ax=axes[1])\n",
    "\n",
    "plt.show()"
   ]
  },
  {
   "cell_type": "markdown",
   "metadata": {},
   "source": [
    "A autocorrelação decai muito lentamente para a série em questão. Isso nos daria um treshold máximo da ordem de 40. No entanto, a componente de média móvel dos modelos ARIMA raramente ultrapassa 3 ou 4. Por isso, utilizaremos o valor 1 para manter o modelo simples."
   ]
  },
  {
   "cell_type": "markdown",
   "metadata": {},
   "source": [
    "## Construção do modelo e previsão"
   ]
  },
  {
   "cell_type": "code",
   "execution_count": null,
   "metadata": {},
   "outputs": [],
   "source": [
    "# De_para para mostrar a localizacao do radar\n",
    "de_para = pd.read_csv('de_para.csv')"
   ]
  },
  {
   "cell_type": "code",
   "execution_count": null,
   "metadata": {},
   "outputs": [],
   "source": [
    "# Steps a serem previstos\n",
    "p = 4 #Autoregressao\n",
    "d = 0 #Diferenciacao\n",
    "q = 1 #MediaMovel\n",
    "steps = 15 #Steps Previstos\n",
    "\n",
    "test=test[:steps]\n",
    "\n",
    "# Istancia o modelo e fita no treino\n",
    "model = ARIMA(train['Qtde'],order=(p,d,q))\n",
    "model_fit=model.fit(disp=-1)\n",
    "\n",
    "# Realiza forecast\n",
    "fc, se, conf = model_fit.forecast(steps, alpha=0.05)  # 95% conf"
   ]
  },
  {
   "cell_type": "code",
   "execution_count": null,
   "metadata": {},
   "outputs": [],
   "source": [
    "fc_series = pd.Series(fc, index=test.index)\n",
    "\n",
    "lower_series = pd.Series(conf[:, 0], index=test.Data)\n",
    "upper_series = pd.Series(conf[:, 1], index=test.Data)\n",
    "\n",
    "# Plot\n",
    "fig, ax = plt.subplots(figsize=(12, 5))\n",
    "ax.plot(train['Data'], train['Qtde'], label='Training')\n",
    "ax.plot(test['Data'], test['Qtde'], label='Actual')\n",
    "ax.plot(test['Data'], fc_series, label='ARIMA')\n",
    "ax.xaxis.set_major_formatter(mdates.DateFormatter('%H:%M'))\n",
    "plt.fill_between(lower_series.index, lower_series, upper_series, \n",
    "                  color='k', alpha=.15)\n",
    "plt.title('Local: '+str(de_para.loc[de_para['Local']==radar,'Descricao'].reset_index(drop=True)[0])+' / Hora: '+hora)\n",
    "plt.legend(loc='upper left', fontsize=8)\n",
    "plt.show()"
   ]
  }
 ],
 "metadata": {
  "kernelspec": {
   "display_name": "Python 3",
   "language": "python",
   "name": "python3"
  },
  "language_info": {
   "codemirror_mode": {
    "name": "ipython",
    "version": 3
   },
   "file_extension": ".py",
   "mimetype": "text/x-python",
   "name": "python",
   "nbconvert_exporter": "python",
   "pygments_lexer": "ipython3",
   "version": "3.7.3"
  }
 },
 "nbformat": 4,
 "nbformat_minor": 2
}
